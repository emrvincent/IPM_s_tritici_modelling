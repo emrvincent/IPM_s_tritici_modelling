{
 "cells": [
  {
   "cell_type": "code",
   "execution_count": 1,
   "id": "8d2d9f53",
   "metadata": {},
   "outputs": [],
   "source": [
    "import matplotlib.pyplot as plt\n",
    "from Functions_plotting import c1,c2,c3,c4,c5\n",
    "import numpy as np"
   ]
  },
  {
   "cell_type": "code",
   "execution_count": 2,
   "id": "cf3c58f3",
   "metadata": {},
   "outputs": [],
   "source": [
    "# Yield bar plot\n",
    "def yield_boxandwhisker(Xs,ax,Ys,col_type):\n",
    "        \n",
    "    # Set design\n",
    "    if col_type != 4:\n",
    "        ls = ['--','-',':','-.']\n",
    "    else:\n",
    "        ls = [':','--','-','-.']\n",
    "    if col_type == 1:\n",
    "        cols = [c4,c5,c4]\n",
    "    elif col_type == 2:\n",
    "        cols = [c4,c5,c4,c4]\n",
    "    elif col_type == 3:\n",
    "        cols = [c4,c5,c4]\n",
    "    elif col_type == 4:\n",
    "        cols = [c4,c4,c5]\n",
    "        \n",
    "    # Plot vertical line\n",
    "    if col_type != 4:\n",
    "        ax.plot([np.mean(Xs),np.mean(Xs)],[np.min(Ys),np.max(Ys)],color=c4,linewidth=10,alpha=0.4,solid_capstyle='butt')\n",
    "    \n",
    "    # Plot yield horizontal lines\n",
    "    for i in range(len(Ys)):\n",
    "        ax.plot(Xs,[Ys[i],Ys[i]],color=cols[i],linestyle=ls[i],linewidth=3)\n",
    "    \n",
    "    return ax"
   ]
  },
  {
   "cell_type": "code",
   "execution_count": 3,
   "id": "68ed59f4",
   "metadata": {},
   "outputs": [
    {
     "data": {
      "image/png": "[encoded data removed]",
      "text/plain": [
       "<Figure size 600x250 with 1 Axes>"
      ]
     },
     "metadata": {},
     "output_type": "display_data"
    }
   ],
   "source": [
    "# Copy and paste the yields which were output in each of Fitting_1...4\n",
    "Y1 = [0.7213411004686073, 0.749334309958344, 0.7726474347614888]\n",
    "Y2 = [0.7172895172657651, 0.9568669764410591, 0.969568094600089, 0.8836329953868599]\n",
    "Y3 = [0.7172895244366988, 0.7307733424534126, 0.9462224362097315]\n",
    "Y4 = [0.8088212948934402, 0.7711544243330894, 0.8512486622241164]\n",
    "\n",
    "fig,ax = plt.subplots(1,figsize=(6,2.5))\n",
    "\n",
    "# Order needs to be 3, 2, 1, 4\n",
    "ax = yield_boxandwhisker([2,2.5],ax,Y1,1)\n",
    "ax = yield_boxandwhisker([1,1.5],ax,Y2,2)\n",
    "ax = yield_boxandwhisker([0,0.5],ax,Y3,3)\n",
    "ax = yield_boxandwhisker([3,3.5],ax,Y4,4)\n",
    "ax.set_ylim([0.7,1])\n",
    "ax.set_ylabel(\"Relative yield\",fontsize='10')\n",
    "\n",
    "# Order needs to be 3, 2, 1, 4\n",
    "labels = [\"Residue burial\", \"Sowing date\",\"Variety mixture\" , \"Biocontrols\"]\n",
    "ax.set_xticks([0.25,1.25,2.25,3.25],labels = labels,fontsize='10')\n",
    "ax.set_yticks(ax.get_yticks(),np.round(ax.get_yticks(),2),fontsize='10')\n",
    "plt.tight_layout()\n",
    "fig.savefig('Figures/Manuscript_final/fig_1controlyields.pdf', dpi=400)"
   ]
  },
  {
   "cell_type": "code",
   "execution_count": null,
   "id": "7b14ef4d",
   "metadata": {},
   "outputs": [],
   "source": []
  },
  {
   "cell_type": "code",
   "execution_count": null,
   "id": "1dabec36",
   "metadata": {},
   "outputs": [],
   "source": []
  }
 ],
 "metadata": {
  "kernelspec": {
   "display_name": "Python 3 (ipykernel)",
   "language": "python",
   "name": "python3"
  },
  "language_info": {
   "codemirror_mode": {
    "name": "ipython",
    "version": 3
   },
   "file_extension": ".py",
   "mimetype": "text/x-python",
   "name": "python",
   "nbconvert_exporter": "python",
   "pygments_lexer": "ipython3",
   "version": "3.9.12"
  }
 },
 "nbformat": 4,
 "nbformat_minor": 5
}
