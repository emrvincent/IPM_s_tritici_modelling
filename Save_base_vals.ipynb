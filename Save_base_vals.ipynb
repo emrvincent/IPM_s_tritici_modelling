{
 "cells": [
  {
   "cell_type": "code",
   "execution_count": 1,
   "id": "f461b242",
   "metadata": {},
   "outputs": [],
   "source": [
    "import numpy as np\n",
    "from Functions_IPM import run_year_n, run_year_f\n",
    "from Functions_base import ic_base, G\n",
    "from Functions_analysis import integral"
   ]
  },
  {
   "cell_type": "code",
   "execution_count": 2,
   "id": "704b1dfe",
   "metadata": {},
   "outputs": [],
   "source": [
    "# Uninfected yield for denominator\n",
    "ic = 1*ic_base\n",
    "ic[-1] = 0\n",
    "disease_free_pop = run_year_n(ic)\n",
    "S_no_dis = disease_free_pop[:,0]\n",
    "nodis_Y = integral(S_no_dis,0)\n",
    "\n",
    "np.save(\"baseY.npy\",nodis_Y)"
   ]
  },
  {
   "cell_type": "code",
   "execution_count": 3,
   "id": "b213456a",
   "metadata": {},
   "outputs": [],
   "source": [
    "# Scalar for initial condition between years\n",
    "ic = 1*ic_base\n",
    "pop = run_year_f(ic)\n",
    "end_I_prevalence = pop[-1,2]/G\n",
    "a = ic_base[-1]/end_I_prevalence\n",
    "\n",
    "np.save(\"ic_scalar.npy\",a)"
   ]
  },
  {
   "cell_type": "code",
   "execution_count": null,
   "id": "5349b1b5",
   "metadata": {},
   "outputs": [],
   "source": []
  }
 ],
 "metadata": {
  "kernelspec": {
   "display_name": "Python 3 (ipykernel)",
   "language": "python",
   "name": "python3"
  },
  "language_info": {
   "codemirror_mode": {
    "name": "ipython",
    "version": 3
   },
   "file_extension": ".py",
   "mimetype": "text/x-python",
   "name": "python",
   "nbconvert_exporter": "python",
   "pygments_lexer": "ipython3",
   "version": "3.9.12"
  }
 },
 "nbformat": 4,
 "nbformat_minor": 5
}
